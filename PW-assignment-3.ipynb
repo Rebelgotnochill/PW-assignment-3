{
 "cells": [
  {
   "cell_type": "markdown",
   "id": "287b8893",
   "metadata": {},
   "source": [
    "# Q1. Which keyword is used to create a function? Create a function to return a list of odd numbers in therange of 1 to 25."
   ]
  },
  {
   "cell_type": "markdown",
   "id": "46a3c39e",
   "metadata": {},
   "source": [
    "In python we used \"def\" keyword to create a function"
   ]
  },
  {
   "cell_type": "code",
   "execution_count": 12,
   "id": "4d5d605a",
   "metadata": {},
   "outputs": [],
   "source": [
    "def odd_numbers(a,b):\n",
    "    return [i for i in range(a, b) if i % 2 != 0]"
   ]
  },
  {
   "cell_type": "code",
   "execution_count": 13,
   "id": "0f3e80f4",
   "metadata": {},
   "outputs": [
    {
     "data": {
      "text/plain": [
       "[1, 3, 5, 7, 9, 11, 13, 15, 17, 19, 21, 23, 25]"
      ]
     },
     "execution_count": 13,
     "metadata": {},
     "output_type": "execute_result"
    }
   ],
   "source": [
    "odd_numbers(1,26)"
   ]
  },
  {
   "cell_type": "markdown",
   "id": "7cee00fa",
   "metadata": {},
   "source": [
    "# Q2. Why *args and **kwargs is used in some functions? Create a function each for *args and **kwargs to demonstrate their use."
   ]
  },
  {
   "cell_type": "raw",
   "id": "98f3adc2",
   "metadata": {},
   "source": [
    "The *args parameter is used to pass a variable number of non-keyword arguments to a function."
   ]
  },
  {
   "cell_type": "code",
   "execution_count": 16,
   "id": "d5a8fc24",
   "metadata": {},
   "outputs": [],
   "source": [
    "def args_function(*args):\n",
    "    for i in args:\n",
    "        print(i)"
   ]
  },
  {
   "cell_type": "code",
   "execution_count": 20,
   "id": "56d4f8d1",
   "metadata": {},
   "outputs": [
    {
     "name": "stdout",
     "output_type": "stream",
     "text": [
      "7\n",
      "8\n",
      "9\n"
     ]
    }
   ],
   "source": [
    "args_function(7,8,9)"
   ]
  },
  {
   "cell_type": "raw",
   "id": "fed9878b",
   "metadata": {},
   "source": [
    "The **kwargs parameter is used to pass a variable number of keyword arguments to a function."
   ]
  },
  {
   "cell_type": "code",
   "execution_count": 6,
   "id": "82fc2572",
   "metadata": {},
   "outputs": [],
   "source": [
    "def kwargs_function(**kwargs):\n",
    "    for key, value in kwargs.items():\n",
    "        print(f\"{key} = {value}\")"
   ]
  },
  {
   "cell_type": "code",
   "execution_count": 7,
   "id": "daa35b79",
   "metadata": {},
   "outputs": [
    {
     "name": "stdout",
     "output_type": "stream",
     "text": [
      "seven = 7\n",
      "eight = 8\n",
      "Nine = 9\n"
     ]
    }
   ],
   "source": [
    "kwargs_function(seven='7',eight='8',Nine='9')"
   ]
  },
  {
   "cell_type": "markdown",
   "id": "59b70373",
   "metadata": {},
   "source": [
    "# Q3. What is an iterator in python? Name the method used to initialise the iterator object and the method used for iteration. Use these methods to print the first five elements of the given list [2, 4, 6, 8, 10, 12, 14, 16, 18, 20]."
   ]
  },
  {
   "cell_type": "raw",
   "id": "c5494018",
   "metadata": {},
   "source": [
    "Iterator is an object that can be iterated upon, meaning that you can traverse through all the values.\n",
    "To initialize an iterator object in Python, we use the iter() method. It uses the next() method for iteration."
   ]
  },
  {
   "cell_type": "code",
   "execution_count": 8,
   "id": "986246e1",
   "metadata": {},
   "outputs": [],
   "source": [
    "mylist = [2, 4, 6, 8, 10, 12, 14, 16, 18, 20]"
   ]
  },
  {
   "cell_type": "code",
   "execution_count": 10,
   "id": "bcd64663",
   "metadata": {},
   "outputs": [
    {
     "name": "stdout",
     "output_type": "stream",
     "text": [
      "2\n",
      "4\n",
      "6\n",
      "8\n",
      "10\n"
     ]
    }
   ],
   "source": [
    "myiter = iter(mylist)\n",
    "\n",
    "for i in range(5):\n",
    "    print(next(myiter))"
   ]
  },
  {
   "cell_type": "markdown",
   "id": "e1d6d4ae",
   "metadata": {},
   "source": [
    "# Q4. What is a generator function in python? Why yield keyword is used? Give an example of a generator function."
   ]
  },
  {
   "cell_type": "raw",
   "id": "8fb53483",
   "metadata": {},
   "source": [
    "generator is a function that returns an iterator that produces a sequence of values when iterated over."
   ]
  },
  {
   "cell_type": "code",
   "execution_count": 14,
   "id": "7700b356",
   "metadata": {},
   "outputs": [
    {
     "name": "stdout",
     "output_type": "stream",
     "text": [
      "This is printed first\n",
      "1\n",
      "This is printed second\n",
      "2\n",
      "This is printed at last\n",
      "3\n"
     ]
    }
   ],
   "source": [
    "def my_gen():\n",
    "    n = 1\n",
    "    print('This is printed first')\n",
    "    yield n\n",
    "\n",
    "    n += 1\n",
    "    print('This is printed second')\n",
    "    yield n\n",
    "\n",
    "    n += 1\n",
    "    print('This is printed at last')\n",
    "    yield n\n",
    "\n",
    "a = my_gen()\n",
    "\n",
    "print(next(a))\n",
    "print(next(a))\n",
    "print(next(a))"
   ]
  },
  {
   "cell_type": "markdown",
   "id": "edf7a77b",
   "metadata": {},
   "source": [
    "# Q5. Create a generator function for prime numbers less than 1000. Use the next() method to print the first 20 prime numbers."
   ]
  },
  {
   "cell_type": "code",
   "execution_count": 2,
   "id": "711ec6b2",
   "metadata": {},
   "outputs": [
    {
     "name": "stdout",
     "output_type": "stream",
     "text": [
      "2\n",
      "3\n",
      "5\n",
      "7\n",
      "11\n",
      "13\n",
      "17\n",
      "19\n",
      "23\n",
      "29\n",
      "31\n",
      "37\n",
      "41\n",
      "43\n",
      "47\n",
      "53\n",
      "59\n",
      "61\n",
      "67\n",
      "71\n"
     ]
    }
   ],
   "source": [
    "def prime_nums():\n",
    "    n = 2\n",
    "    while True:\n",
    "        for i in range(2, n):\n",
    "            if n % i == 0:\n",
    "                break\n",
    "        else:\n",
    "            yield n\n",
    "        n += 1\n",
    "\n",
    "prime = prime_nums()\n",
    "for i in range(20):\n",
    "    print(next(prime))"
   ]
  },
  {
   "cell_type": "markdown",
   "id": "31f22872",
   "metadata": {},
   "source": [
    "# Q6. Write a python program to print the first 10 Fibonacci numbers using a while loop."
   ]
  },
  {
   "cell_type": "code",
   "execution_count": 3,
   "id": "163fe19f",
   "metadata": {},
   "outputs": [
    {
     "name": "stdout",
     "output_type": "stream",
     "text": [
      "0\n",
      "1\n",
      "1\n",
      "2\n",
      "3\n",
      "5\n",
      "8\n",
      "13\n",
      "21\n",
      "34\n"
     ]
    }
   ],
   "source": [
    "a, b = 0, 1\n",
    "count = 0\n",
    "\n",
    "while count < 10:\n",
    "    print(a)\n",
    "    a, b = b, a + b\n",
    "    count += 1"
   ]
  },
  {
   "cell_type": "markdown",
   "id": "15b8db20",
   "metadata": {},
   "source": [
    "# Q7. Write a List Comprehension to iterate through the given string: ‘pwskills’.\n",
    "Expected output: ['p', 'w', 's', 'k', 'i', 'l', 'l', 's']"
   ]
  },
  {
   "cell_type": "code",
   "execution_count": 5,
   "id": "1860c753",
   "metadata": {},
   "outputs": [
    {
     "name": "stdout",
     "output_type": "stream",
     "text": [
      "['p', 'w', 's', 'k', 'i', 'l', 'l', 's']\n"
     ]
    }
   ],
   "source": [
    "string = 'pwskills'\n",
    "output = [char for char in string]\n",
    "print(output)"
   ]
  },
  {
   "cell_type": "markdown",
   "id": "fdc485d2",
   "metadata": {},
   "source": [
    "# Q8. Write a python program to check whether a given number is Palindrome or not using a while loop."
   ]
  },
  {
   "cell_type": "code",
   "execution_count": 8,
   "id": "e2388cde",
   "metadata": {},
   "outputs": [
    {
     "name": "stdout",
     "output_type": "stream",
     "text": [
      "Enter a number: 10\n",
      "10 is not a palindrome.\n"
     ]
    }
   ],
   "source": [
    "def is_palindrome(number):\n",
    "    temp = number\n",
    "    reverse = 0\n",
    "\n",
    "    while temp > 0:\n",
    "        remainder = temp % 10\n",
    "        reverse = (reverse * 10) + remainder\n",
    "        temp = temp // 10\n",
    "\n",
    "    if number == reverse:\n",
    "        return True\n",
    "    else:\n",
    "        return False\n",
    "\n",
    "num = int(input(\"Enter a number: \"))\n",
    "\n",
    "if is_palindrome(num):\n",
    "    print(num, \"is a palindrome.\")\n",
    "else:\n",
    "    print(num, \"is not a palindrome.\")"
   ]
  },
  {
   "cell_type": "markdown",
   "id": "3f22029f",
   "metadata": {},
   "source": [
    "# Q9. Write a code to print odd numbers from 1 to 100 using list comprehension.\n",
    "Note: Use a list comprehension to create a list from 1 to 100 and use another List comprehension to filterout odd numbers."
   ]
  },
  {
   "cell_type": "code",
   "execution_count": 9,
   "id": "d596bec7",
   "metadata": {},
   "outputs": [
    {
     "name": "stdout",
     "output_type": "stream",
     "text": [
      "[1, 3, 5, 7, 9, 11, 13, 15, 17, 19, 21, 23, 25, 27, 29, 31, 33, 35, 37, 39, 41, 43, 45, 47, 49, 51, 53, 55, 57, 59, 61, 63, 65, 67, 69, 71, 73, 75, 77, 79, 81, 83, 85, 87, 89, 91, 93, 95, 97, 99]\n"
     ]
    }
   ],
   "source": [
    "odd_numbers = [num for num in range(1, 101) if num % 2 != 0]\n",
    "print(odd_numbers)"
   ]
  },
  {
   "cell_type": "code",
   "execution_count": null,
   "id": "3dfa8de2",
   "metadata": {},
   "outputs": [],
   "source": []
  }
 ],
 "metadata": {
  "kernelspec": {
   "display_name": "Python 3 (ipykernel)",
   "language": "python",
   "name": "python3"
  },
  "language_info": {
   "codemirror_mode": {
    "name": "ipython",
    "version": 3
   },
   "file_extension": ".py",
   "mimetype": "text/x-python",
   "name": "python",
   "nbconvert_exporter": "python",
   "pygments_lexer": "ipython3",
   "version": "3.10.4"
  }
 },
 "nbformat": 4,
 "nbformat_minor": 5
}
